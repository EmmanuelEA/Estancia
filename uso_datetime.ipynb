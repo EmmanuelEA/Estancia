{
 "cells": [
  {
   "cell_type": "code",
   "execution_count": 13,
   "metadata": {},
   "outputs": [
    {
     "name": "stderr",
     "output_type": "stream",
     "text": [
      "/home/eea/anaconda3/lib/python3.7/site-packages/urllib3/connectionpool.py:847: InsecureRequestWarning: Unverified HTTPS request is being made. Adding certificate verification is strongly advised. See: https://urllib3.readthedocs.io/en/latest/advanced-usage.html#ssl-warnings\n",
      "  InsecureRequestWarning)\n"
     ]
    },
    {
     "data": {
      "text/plain": [
       "<urllib3.response.HTTPResponse at 0x7f61367fd9b0>"
      ]
     },
     "execution_count": 13,
     "metadata": {},
     "output_type": "execute_result"
    }
   ],
   "source": [
    "# import necessary packages\n",
    "#import numpy as np\n",
    "import os\n",
    "#import urllib.request\n",
    "import urllib3\n",
    "import pandas as pd\n",
    "import matplotlib.pyplot as plt\n",
    "import earthpy as et\n",
    "\n",
    "# make figures plot inline\n",
    "plt.ion()\n",
    "\n",
    "# set working directory\n",
    "os.chdir(os.path.join(et.io.HOME, 'earth-analytics'))\n",
    "\n",
    "# set standard plot parameters for uniform plotting\n",
    "plt.rcParams['figure.figsize'] = (10, 6)\n",
    "# prettier plotting with seaborn\n",
    "import seaborn as sns; \n",
    "sns.set(font_scale=1.5)\n",
    "sns.set_style(\"whitegrid\")\n",
    "#file_path = \"https://www.esrl.noaa.gov/psd/boulder/data/boulderdaily.complete\"\n",
    "#http = urllib3.PoolManager()\n",
    "#r = http.request('GET', file_path)\n"
   ]
  },
  {
   "cell_type": "code",
   "execution_count": 18,
   "metadata": {},
   "outputs": [
    {
     "data": {
      "text/html": [
       "<div>\n",
       "<style scoped>\n",
       "    .dataframe tbody tr th:only-of-type {\n",
       "        vertical-align: middle;\n",
       "    }\n",
       "\n",
       "    .dataframe tbody tr th {\n",
       "        vertical-align: top;\n",
       "    }\n",
       "\n",
       "    .dataframe thead th {\n",
       "        text-align: right;\n",
       "    }\n",
       "</style>\n",
       "<table border=\"1\" class=\"dataframe\">\n",
       "  <thead>\n",
       "    <tr style=\"text-align: right;\">\n",
       "      <th></th>\n",
       "      <th>year</th>\n",
       "      <th>mon</th>\n",
       "      <th>day</th>\n",
       "      <th>tmax</th>\n",
       "      <th>tmin</th>\n",
       "      <th>precip</th>\n",
       "      <th>snow</th>\n",
       "      <th>snowcover</th>\n",
       "    </tr>\n",
       "  </thead>\n",
       "  <tbody>\n",
       "    <tr>\n",
       "      <th>0</th>\n",
       "      <td>1897</td>\n",
       "      <td>1</td>\n",
       "      <td>1</td>\n",
       "      <td>-998</td>\n",
       "      <td>-998</td>\n",
       "      <td>-998.0</td>\n",
       "      <td>-998</td>\n",
       "      <td>-998</td>\n",
       "    </tr>\n",
       "    <tr>\n",
       "      <th>1</th>\n",
       "      <td>1897</td>\n",
       "      <td>1</td>\n",
       "      <td>2</td>\n",
       "      <td>-998</td>\n",
       "      <td>-998</td>\n",
       "      <td>-998.0</td>\n",
       "      <td>-998</td>\n",
       "      <td>-998</td>\n",
       "    </tr>\n",
       "    <tr>\n",
       "      <th>2</th>\n",
       "      <td>1897</td>\n",
       "      <td>1</td>\n",
       "      <td>3</td>\n",
       "      <td>-998</td>\n",
       "      <td>-998</td>\n",
       "      <td>-998.0</td>\n",
       "      <td>-998</td>\n",
       "      <td>-998</td>\n",
       "    </tr>\n",
       "    <tr>\n",
       "      <th>3</th>\n",
       "      <td>1897</td>\n",
       "      <td>1</td>\n",
       "      <td>4</td>\n",
       "      <td>-998</td>\n",
       "      <td>-998</td>\n",
       "      <td>-998.0</td>\n",
       "      <td>-998</td>\n",
       "      <td>-998</td>\n",
       "    </tr>\n",
       "    <tr>\n",
       "      <th>4</th>\n",
       "      <td>1897</td>\n",
       "      <td>1</td>\n",
       "      <td>5</td>\n",
       "      <td>-998</td>\n",
       "      <td>-998</td>\n",
       "      <td>-998.0</td>\n",
       "      <td>-998</td>\n",
       "      <td>-998</td>\n",
       "    </tr>\n",
       "  </tbody>\n",
       "</table>\n",
       "</div>"
      ],
      "text/plain": [
       "   year  mon  day  tmax  tmin  precip  snow  snowcover\n",
       "0  1897    1    1  -998  -998  -998.0  -998       -998\n",
       "1  1897    1    2  -998  -998  -998.0  -998       -998\n",
       "2  1897    1    3  -998  -998  -998.0  -998       -998\n",
       "3  1897    1    4  -998  -998  -998.0  -998       -998\n",
       "4  1897    1    5  -998  -998  -998.0  -998       -998"
      ]
     },
     "execution_count": 18,
     "metadata": {},
     "output_type": "execute_result"
    }
   ],
   "source": [
    "# import file into pandas dataframe\n",
    "boulder_july = pd.read_csv(\"/home/eea/earth-analytics/data.txt\", sep=\" \")\n",
    "boulder_july.head()"
   ]
  },
  {
   "cell_type": "code",
   "execution_count": 28,
   "metadata": {},
   "outputs": [
    {
     "name": "stderr",
     "output_type": "stream",
     "text": [
      "'c' argument looks like a single numeric RGB or RGBA sequence, which should be avoided as value-mapping will have precedence in case its length matches with 'x' & 'y'.  Please use a 2-D array with a single row if you really want to specify the same RGB or RGBA value for all points.\n"
     ]
    },
    {
     "data": {
      "text/plain": [
       "<matplotlib.axes._subplots.AxesSubplot at 0x7f613508c3c8>"
      ]
     },
     "execution_count": 28,
     "metadata": {},
     "output_type": "execute_result"
    },
    {
     "data": {
      "image/png": "[encoded data removed]",
      "text/plain": [
       "<Figure size 720x432 with 1 Axes>"
      ]
     },
     "metadata": {},
     "output_type": "display_data"
    }
   ],
   "source": [
    "data1  = boulder_july\n",
    "\n",
    "data1.plot(kind=\"scatter\", x=\"mon\", y=\"precip\")"
   ]
  },
  {
   "cell_type": "code",
   "execution_count": 22,
   "metadata": {},
   "outputs": [
    {
     "name": "stderr",
     "output_type": "stream",
     "text": [
      "'c' argument looks like a single numeric RGB or RGBA sequence, which should be avoided as value-mapping will have precedence in case its length matches with 'x' & 'y'.  Please use a 2-D array with a single row if you really want to specify the same RGB or RGBA value for all points.\n",
      "'c' argument looks like a single numeric RGB or RGBA sequence, which should be avoided as value-mapping will have precedence in case its length matches with 'x' & 'y'.  Please use a 2-D array with a single row if you really want to specify the same RGB or RGBA value for all points.\n",
      "'c' argument looks like a single numeric RGB or RGBA sequence, which should be avoided as value-mapping will have precedence in case its length matches with 'x' & 'y'.  Please use a 2-D array with a single row if you really want to specify the same RGB or RGBA value for all points.\n",
      "'c' argument looks like a single numeric RGB or RGBA sequence, which should be avoided as value-mapping will have precedence in case its length matches with 'x' & 'y'.  Please use a 2-D array with a single row if you really want to specify the same RGB or RGBA value for all points.\n",
      "'c' argument looks like a single numeric RGB or RGBA sequence, which should be avoided as value-mapping will have precedence in case its length matches with 'x' & 'y'.  Please use a 2-D array with a single row if you really want to specify the same RGB or RGBA value for all points.\n"
     ]
    },
    {
     "data": {
      "text/plain": [
       "<matplotlib.axes._subplots.AxesSubplot at 0x7f6135a22080>"
      ]
     },
     "execution_count": 22,
     "metadata": {},
     "output_type": "execute_result"
    },
    {
     "data": {
      "image/png": "[encoded data removed]",
      "text/plain": [
       "<Figure size 720x432 with 6 Axes>"
      ]
     },
     "metadata": {},
     "output_type": "display_data"
    }
   ],
   "source": [
    "\n",
    "figure, axs = plt.subplots(2,3, sharey=True, sharex=True)\n",
    "data1.plot(kind=\"scatter\", x=\"day\", y=\"tmax\", ax=axs[0][0])\n",
    "data1.plot(kind=\"scatter\", x=\"day\", y=\"tmin\", ax=axs[0][1])\n",
    "data1.plot(kind=\"scatter\", x=\"day\", y=\"precip\", ax=axs[0][2])\n",
    "data1.plot(kind=\"scatter\", x=\"day\", y=\"snow\", ax=axs[1][0])\n",
    "data1.plot(kind=\"scatter\", x=\"day\", y=\"snowcover\",ax=axs[1][1])\n"
   ]
  },
  {
   "cell_type": "code",
   "execution_count": null,
   "metadata": {},
   "outputs": [],
   "source": []
  }
 ],
 "metadata": {
  "kernelspec": {
   "display_name": "Python 3",
   "language": "python",
   "name": "python3"
  },
  "language_info": {
   "codemirror_mode": {
    "name": "ipython",
    "version": 3
   },
   "file_extension": ".py",
   "mimetype": "text/x-python",
   "name": "python",
   "nbconvert_exporter": "python",
   "pygments_lexer": "ipython3",
   "version": "3.7.1"
  }
 },
 "nbformat": 4,
 "nbformat_minor": 2
}
