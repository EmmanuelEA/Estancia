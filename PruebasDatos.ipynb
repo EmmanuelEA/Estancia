{
 "cells": [
  {
   "cell_type": "code",
   "execution_count": 35,
   "metadata": {},
   "outputs": [],
   "source": [
    "import pandas as pd\n",
    "import numpy as np\n",
    "import matplotlib.pyplot as plt"
   ]
  },
  {
   "cell_type": "code",
   "execution_count": 5,
   "metadata": {},
   "outputs": [],
   "source": [
    "data1 = pd.read_excel('~/Documents/GitHub/Estancia/DatosJuntos.xlsx','Hoja1')"
   ]
  },
  {
   "cell_type": "code",
   "execution_count": 49,
   "metadata": {},
   "outputs": [
    {
     "data": {
      "text/html": [
       "<div>\n",
       "<style scoped>\n",
       "    .dataframe tbody tr th:only-of-type {\n",
       "        vertical-align: middle;\n",
       "    }\n",
       "\n",
       "    .dataframe tbody tr th {\n",
       "        vertical-align: top;\n",
       "    }\n",
       "\n",
       "    .dataframe thead th {\n",
       "        text-align: right;\n",
       "    }\n",
       "</style>\n",
       "<table border=\"1\" class=\"dataframe\">\n",
       "  <thead>\n",
       "    <tr style=\"text-align: right;\">\n",
       "      <th></th>\n",
       "      <th>dtdirrafaga</th>\n",
       "      <th>dtdirviento</th>\n",
       "      <th>dtprecipitacion</th>\n",
       "      <th>dtraprafaga</th>\n",
       "      <th>dtrapviento</th>\n",
       "      <th>dttempaire</th>\n",
       "      <th>dthumrelativa</th>\n",
       "      <th>dtradsolar</th>\n",
       "    </tr>\n",
       "  </thead>\n",
       "  <tbody>\n",
       "    <tr>\n",
       "      <th>count</th>\n",
       "      <td>166657.000000</td>\n",
       "      <td>166657.000000</td>\n",
       "      <td>166657.000000</td>\n",
       "      <td>166657.000000</td>\n",
       "      <td>166657.000000</td>\n",
       "      <td>166657.000000</td>\n",
       "      <td>166657.000000</td>\n",
       "      <td>166657.000000</td>\n",
       "    </tr>\n",
       "    <tr>\n",
       "      <th>mean</th>\n",
       "      <td>160.788242</td>\n",
       "      <td>120.878877</td>\n",
       "      <td>0.014416</td>\n",
       "      <td>3.319929</td>\n",
       "      <td>1.275757</td>\n",
       "      <td>18.197867</td>\n",
       "      <td>52.726996</td>\n",
       "      <td>196.701261</td>\n",
       "    </tr>\n",
       "    <tr>\n",
       "      <th>std</th>\n",
       "      <td>109.657447</td>\n",
       "      <td>109.988876</td>\n",
       "      <td>0.198840</td>\n",
       "      <td>2.358366</td>\n",
       "      <td>0.905286</td>\n",
       "      <td>5.891570</td>\n",
       "      <td>26.073773</td>\n",
       "      <td>312.437383</td>\n",
       "    </tr>\n",
       "    <tr>\n",
       "      <th>min</th>\n",
       "      <td>0.000000</td>\n",
       "      <td>0.000000</td>\n",
       "      <td>0.000000</td>\n",
       "      <td>0.000000</td>\n",
       "      <td>0.000000</td>\n",
       "      <td>-0.200000</td>\n",
       "      <td>0.000000</td>\n",
       "      <td>-1.000000</td>\n",
       "    </tr>\n",
       "    <tr>\n",
       "      <th>25%</th>\n",
       "      <td>64.000000</td>\n",
       "      <td>23.000000</td>\n",
       "      <td>0.000000</td>\n",
       "      <td>1.600000</td>\n",
       "      <td>0.700000</td>\n",
       "      <td>14.300000</td>\n",
       "      <td>33.000000</td>\n",
       "      <td>-1.000000</td>\n",
       "    </tr>\n",
       "    <tr>\n",
       "      <th>50%</th>\n",
       "      <td>165.000000</td>\n",
       "      <td>66.000000</td>\n",
       "      <td>0.000000</td>\n",
       "      <td>3.000000</td>\n",
       "      <td>1.200000</td>\n",
       "      <td>17.400000</td>\n",
       "      <td>54.000000</td>\n",
       "      <td>2.000000</td>\n",
       "    </tr>\n",
       "    <tr>\n",
       "      <th>75%</th>\n",
       "      <td>250.000000</td>\n",
       "      <td>215.000000</td>\n",
       "      <td>0.000000</td>\n",
       "      <td>4.900000</td>\n",
       "      <td>1.800000</td>\n",
       "      <td>22.400000</td>\n",
       "      <td>73.000000</td>\n",
       "      <td>286.000000</td>\n",
       "    </tr>\n",
       "    <tr>\n",
       "      <th>max</th>\n",
       "      <td>360.000000</td>\n",
       "      <td>360.000000</td>\n",
       "      <td>14.800000</td>\n",
       "      <td>22.500000</td>\n",
       "      <td>8.900000</td>\n",
       "      <td>38.900000</td>\n",
       "      <td>100.000000</td>\n",
       "      <td>1388.000000</td>\n",
       "    </tr>\n",
       "  </tbody>\n",
       "</table>\n",
       "</div>"
      ],
      "text/plain": [
       "         dtdirrafaga    dtdirviento  dtprecipitacion    dtraprafaga  \\\n",
       "count  166657.000000  166657.000000    166657.000000  166657.000000   \n",
       "mean      160.788242     120.878877         0.014416       3.319929   \n",
       "std       109.657447     109.988876         0.198840       2.358366   \n",
       "min         0.000000       0.000000         0.000000       0.000000   \n",
       "25%        64.000000      23.000000         0.000000       1.600000   \n",
       "50%       165.000000      66.000000         0.000000       3.000000   \n",
       "75%       250.000000     215.000000         0.000000       4.900000   \n",
       "max       360.000000     360.000000        14.800000      22.500000   \n",
       "\n",
       "         dtrapviento     dttempaire  dthumrelativa     dtradsolar  \n",
       "count  166657.000000  166657.000000  166657.000000  166657.000000  \n",
       "mean        1.275757      18.197867      52.726996     196.701261  \n",
       "std         0.905286       5.891570      26.073773     312.437383  \n",
       "min         0.000000      -0.200000       0.000000      -1.000000  \n",
       "25%         0.700000      14.300000      33.000000      -1.000000  \n",
       "50%         1.200000      17.400000      54.000000       2.000000  \n",
       "75%         1.800000      22.400000      73.000000     286.000000  \n",
       "max         8.900000      38.900000     100.000000    1388.000000  "
      ]
     },
     "execution_count": 49,
     "metadata": {},
     "output_type": "execute_result"
    }
   ],
   "source": [
    "data1.describe()"
   ]
  },
  {
   "cell_type": "code",
   "execution_count": 9,
   "metadata": {},
   "outputs": [
    {
     "data": {
      "text/plain": [
       "Datee              datetime64[ns]\n",
       "dtdirrafaga                 int64\n",
       "dtdirviento                 int64\n",
       "dtprecipitacion           float64\n",
       "dtraprafaga               float64\n",
       "dtrapviento               float64\n",
       "dttempaire                float64\n",
       "dthumrelativa               int64\n",
       "dtradsolar                float64\n",
       "dtype: object"
      ]
     },
     "execution_count": 9,
     "metadata": {},
     "output_type": "execute_result"
    }
   ],
   "source": [
    "data1.dtypes"
   ]
  },
  {
   "cell_type": "code",
   "execution_count": 11,
   "metadata": {},
   "outputs": [
    {
     "data": {
      "text/html": [
       "<div>\n",
       "<style scoped>\n",
       "    .dataframe tbody tr th:only-of-type {\n",
       "        vertical-align: middle;\n",
       "    }\n",
       "\n",
       "    .dataframe tbody tr th {\n",
       "        vertical-align: top;\n",
       "    }\n",
       "\n",
       "    .dataframe thead th {\n",
       "        text-align: right;\n",
       "    }\n",
       "</style>\n",
       "<table border=\"1\" class=\"dataframe\">\n",
       "  <thead>\n",
       "    <tr style=\"text-align: right;\">\n",
       "      <th></th>\n",
       "      <th>dtdirrafaga</th>\n",
       "      <th>dtdirviento</th>\n",
       "      <th>dtprecipitacion</th>\n",
       "      <th>dtraprafaga</th>\n",
       "      <th>dtrapviento</th>\n",
       "      <th>dttempaire</th>\n",
       "      <th>dthumrelativa</th>\n",
       "      <th>dtradsolar</th>\n",
       "    </tr>\n",
       "  </thead>\n",
       "  <tbody>\n",
       "    <tr>\n",
       "      <th>count</th>\n",
       "      <td>166657.000000</td>\n",
       "      <td>166657.000000</td>\n",
       "      <td>166657.000000</td>\n",
       "      <td>166657.000000</td>\n",
       "      <td>166657.000000</td>\n",
       "      <td>166657.000000</td>\n",
       "      <td>166657.000000</td>\n",
       "      <td>165990.000000</td>\n",
       "    </tr>\n",
       "    <tr>\n",
       "      <th>mean</th>\n",
       "      <td>160.788242</td>\n",
       "      <td>120.878877</td>\n",
       "      <td>0.014416</td>\n",
       "      <td>3.319929</td>\n",
       "      <td>1.275757</td>\n",
       "      <td>18.197867</td>\n",
       "      <td>52.726996</td>\n",
       "      <td>197.491668</td>\n",
       "    </tr>\n",
       "    <tr>\n",
       "      <th>std</th>\n",
       "      <td>109.657447</td>\n",
       "      <td>109.988876</td>\n",
       "      <td>0.198840</td>\n",
       "      <td>2.358366</td>\n",
       "      <td>0.905286</td>\n",
       "      <td>5.891570</td>\n",
       "      <td>26.073773</td>\n",
       "      <td>312.815085</td>\n",
       "    </tr>\n",
       "    <tr>\n",
       "      <th>min</th>\n",
       "      <td>0.000000</td>\n",
       "      <td>0.000000</td>\n",
       "      <td>0.000000</td>\n",
       "      <td>0.000000</td>\n",
       "      <td>0.000000</td>\n",
       "      <td>-0.200000</td>\n",
       "      <td>0.000000</td>\n",
       "      <td>-1.000000</td>\n",
       "    </tr>\n",
       "    <tr>\n",
       "      <th>25%</th>\n",
       "      <td>64.000000</td>\n",
       "      <td>23.000000</td>\n",
       "      <td>0.000000</td>\n",
       "      <td>1.600000</td>\n",
       "      <td>0.700000</td>\n",
       "      <td>14.300000</td>\n",
       "      <td>33.000000</td>\n",
       "      <td>-1.000000</td>\n",
       "    </tr>\n",
       "    <tr>\n",
       "      <th>50%</th>\n",
       "      <td>165.000000</td>\n",
       "      <td>66.000000</td>\n",
       "      <td>0.000000</td>\n",
       "      <td>3.000000</td>\n",
       "      <td>1.200000</td>\n",
       "      <td>17.400000</td>\n",
       "      <td>54.000000</td>\n",
       "      <td>2.000000</td>\n",
       "    </tr>\n",
       "    <tr>\n",
       "      <th>75%</th>\n",
       "      <td>250.000000</td>\n",
       "      <td>215.000000</td>\n",
       "      <td>0.000000</td>\n",
       "      <td>4.900000</td>\n",
       "      <td>1.800000</td>\n",
       "      <td>22.400000</td>\n",
       "      <td>73.000000</td>\n",
       "      <td>288.000000</td>\n",
       "    </tr>\n",
       "    <tr>\n",
       "      <th>max</th>\n",
       "      <td>360.000000</td>\n",
       "      <td>360.000000</td>\n",
       "      <td>14.800000</td>\n",
       "      <td>22.500000</td>\n",
       "      <td>8.900000</td>\n",
       "      <td>38.900000</td>\n",
       "      <td>100.000000</td>\n",
       "      <td>1388.000000</td>\n",
       "    </tr>\n",
       "  </tbody>\n",
       "</table>\n",
       "</div>"
      ],
      "text/plain": [
       "         dtdirrafaga    dtdirviento  dtprecipitacion    dtraprafaga  \\\n",
       "count  166657.000000  166657.000000    166657.000000  166657.000000   \n",
       "mean      160.788242     120.878877         0.014416       3.319929   \n",
       "std       109.657447     109.988876         0.198840       2.358366   \n",
       "min         0.000000       0.000000         0.000000       0.000000   \n",
       "25%        64.000000      23.000000         0.000000       1.600000   \n",
       "50%       165.000000      66.000000         0.000000       3.000000   \n",
       "75%       250.000000     215.000000         0.000000       4.900000   \n",
       "max       360.000000     360.000000        14.800000      22.500000   \n",
       "\n",
       "         dtrapviento     dttempaire  dthumrelativa     dtradsolar  \n",
       "count  166657.000000  166657.000000  166657.000000  165990.000000  \n",
       "mean        1.275757      18.197867      52.726996     197.491668  \n",
       "std         0.905286       5.891570      26.073773     312.815085  \n",
       "min         0.000000      -0.200000       0.000000      -1.000000  \n",
       "25%         0.700000      14.300000      33.000000      -1.000000  \n",
       "50%         1.200000      17.400000      54.000000       2.000000  \n",
       "75%         1.800000      22.400000      73.000000     288.000000  \n",
       "max         8.900000      38.900000     100.000000    1388.000000  "
      ]
     },
     "execution_count": 11,
     "metadata": {},
     "output_type": "execute_result"
    }
   ],
   "source": [
    "data1.describe()"
   ]
  },
  {
   "cell_type": "code",
   "execution_count": 48,
   "metadata": {},
   "outputs": [
    {
     "data": {
      "text/plain": [
       "0"
      ]
     },
     "execution_count": 48,
     "metadata": {},
     "output_type": "execute_result"
    }
   ],
   "source": [
    "pd.isnull(data1['dtradsolar']).values.sum()"
   ]
  },
  {
   "cell_type": "code",
   "execution_count": 47,
   "metadata": {},
   "outputs": [],
   "source": [
    "data1 = data1.fillna(0)"
   ]
  },
  {
   "cell_type": "code",
   "execution_count": 50,
   "metadata": {},
   "outputs": [
    {
     "data": {
      "text/plain": [
       "<matplotlib.axes._subplots.AxesSubplot at 0x7f4f1a0a4ef0>"
      ]
     },
     "execution_count": 50,
     "metadata": {},
     "output_type": "execute_result"
    },
    {
     "data": {
      "image/png": "[encoded data removed]",
      "text/plain": [
       "<Figure size 432x288 with 1 Axes>"
      ]
     },
     "metadata": {
      "needs_background": "light"
     },
     "output_type": "display_data"
    }
   ],
   "source": [
    "%matplotlib inline\n",
    "data1.plot(kind=\"scatter\", x=\"dtradsolar\", y=\"dtdirrafaga\")"
   ]
  },
  {
   "cell_type": "code",
   "execution_count": 51,
   "metadata": {},
   "outputs": [
    {
     "data": {
      "text/plain": [
       "<matplotlib.axes._subplots.AxesSubplot at 0x7f4f19fb94e0>"
      ]
     },
     "execution_count": 51,
     "metadata": {},
     "output_type": "execute_result"
    },
    {
     "data": {
      "image/png": "[encoded data removed]",
      "text/plain": [
       "<Figure size 432x288 with 8 Axes>"
      ]
     },
     "metadata": {
      "needs_background": "light"
     },
     "output_type": "display_data"
    }
   ],
   "source": [
    "figure, axs = plt.subplots(2,4, sharey=True, sharex=True)\n",
    "data1.plot(kind=\"scatter\", x=\"dtradsolar\", y=\"dtdirrafaga\", ax=axs[0][0])\n",
    "data1.plot(kind=\"scatter\", x=\"dtradsolar\", y=\"dtdirviento\", ax=axs[0][1])\n",
    "data1.plot(kind=\"scatter\", x=\"dtradsolar\", y=\"dtprecipitacion\", ax=axs[0][2])\n",
    "data1.plot(kind=\"scatter\", x=\"dtradsolar\", y=\"dtraprafaga\", ax=axs[0][3])\n",
    "data1.plot(kind=\"scatter\", x=\"dtradsolar\", y=\"dtrapviento\",ax=axs[1][0])\n",
    "data1.plot(kind=\"scatter\", x=\"dtradsolar\", y=\"dttempaire\", ax=axs[1][1])\n",
    "data1.plot(kind=\"scatter\", x=\"dtradsolar\", y=\"dthumrelativa\", ax=axs[1][2])"
   ]
  },
  {
   "cell_type": "code",
   "execution_count": 52,
   "metadata": {},
   "outputs": [
    {
     "data": {
      "text/plain": [
       "(array([1.01952e+05, 9.97300e+03, 7.34600e+03, 6.12500e+03, 4.94600e+03,\n",
       "        4.24900e+03, 3.54300e+03, 3.20300e+03, 3.08100e+03, 3.42900e+03,\n",
       "        3.99000e+03, 3.71900e+03, 3.44900e+03, 3.54700e+03, 2.88500e+03,\n",
       "        9.38000e+02, 2.35000e+02, 3.90000e+01, 8.00000e+00]),\n",
       " array([-1.00000000e+00,  7.21052632e+01,  1.45210526e+02,  2.18315789e+02,\n",
       "         2.91421053e+02,  3.64526316e+02,  4.37631579e+02,  5.10736842e+02,\n",
       "         5.83842105e+02,  6.56947368e+02,  7.30052632e+02,  8.03157895e+02,\n",
       "         8.76263158e+02,  9.49368421e+02,  1.02247368e+03,  1.09557895e+03,\n",
       "         1.16868421e+03,  1.24178947e+03,  1.31489474e+03,  1.38800000e+03]),\n",
       " <a list of 19 Patch objects>)"
      ]
     },
     "execution_count": 52,
     "metadata": {},
     "output_type": "execute_result"
    },
    {
     "data": {
      "image/png": "[encoded data removed]",
      "text/plain": [
       "<Figure size 432x288 with 1 Axes>"
      ]
     },
     "metadata": {
      "needs_background": "light"
     },
     "output_type": "display_data"
    }
   ],
   "source": [
    "#ceil redondea hacia arriba\n",
    "k=int(np.ceil(1+np.log2(166657))) #uso de regla de sturges para calcular\n",
    "plt.hist(data1['dtradsolar'], bins = k)\n"
   ]
  },
  {
   "cell_type": "code",
   "execution_count": 54,
   "metadata": {},
   "outputs": [
    {
     "data": {
      "text/plain": [
       "count    166657.000000\n",
       "mean        196.701261\n",
       "std         312.437383\n",
       "min          -1.000000\n",
       "25%          -1.000000\n",
       "50%           2.000000\n",
       "75%         286.000000\n",
       "max        1388.000000\n",
       "Name: dtradsolar, dtype: float64"
      ]
     },
     "execution_count": 54,
     "metadata": {},
     "output_type": "execute_result"
    },
    {
     "data": {
      "image/png": "[encoded data removed]",
      "text/plain": [
       "<Figure size 432x288 with 1 Axes>"
      ]
     },
     "metadata": {
      "needs_background": "light"
     },
     "output_type": "display_data"
    }
   ],
   "source": [
    "#boxplot muestra datos del describe, como son media, mediana, moda, etc.\n",
    "plt.boxplot(data1['dtradsolar'])\n",
    "data1['dtradsolar'].describe()"
   ]
  },
  {
   "cell_type": "code",
   "execution_count": 55,
   "metadata": {},
   "outputs": [
    {
     "data": {
      "image/png": "[encoded data removed]",
      "text/plain": [
       "<Figure size 720x720 with 1 Axes>"
      ]
     },
     "metadata": {
      "needs_background": "light"
     },
     "output_type": "display_data"
    }
   ],
   "source": [
    "# create the plot space upon which to plot the data\n",
    "fig, ax = plt.subplots(figsize = (10,10))\n",
    "\n",
    "# add the x-axis and the y-axis to the plot\n",
    "ax.plot(data1['Datee'], \n",
    "        data1['dtradsolar'], \n",
    "        color = 'red')\n",
    "\n",
    "# rotate tick labels\n",
    "plt.setp(ax.get_xticklabels(), rotation=45)\n",
    "\n",
    "# set title and labels for axes\n",
    "ax.set(xlabel=\"Date\",\n",
    "       ylabel=\"Solar Radiation\",\n",
    "       title=\"Solar radiation\");"
   ]
  },
  {
   "cell_type": "code",
   "execution_count": 62,
   "metadata": {},
   "outputs": [
    {
     "data": {
      "image/png": "[encoded data removed]",
      "text/plain": [
       "<Figure size 432x288 with 1 Axes>"
      ]
     },
     "metadata": {
      "needs_background": "light"
     },
     "output_type": "display_data"
    }
   ],
   "source": [
    "# create the plot space upon which to plot the data\n",
    "fig, ax= plt.subplots()\n",
    "\n",
    "# add the x-axis and the y-axis to the plot\n",
    "ax.plot(data1.index.values, \n",
    "        data1['dtradsolar'], \n",
    "        color = 'green')\n",
    "\n",
    "# rotate tick labels\n",
    "plt.setp(ax.get_xticklabels(), rotation=45)\n",
    "\n",
    "# set title and labels for axes\n",
    "ax.set(xlabel=\"Date\",\n",
    "       ylabel=\"Solar Radiation\",\n",
    "       title=\"Solar Radiation\");"
   ]
  },
  {
   "cell_type": "code",
   "execution_count": null,
   "metadata": {},
   "outputs": [],
   "source": []
  }
 ],
 "metadata": {
  "kernelspec": {
   "display_name": "Python 3",
   "language": "python",
   "name": "python3"
  },
  "language_info": {
   "codemirror_mode": {
    "name": "ipython",
    "version": 3
   },
   "file_extension": ".py",
   "mimetype": "text/x-python",
   "name": "python",
   "nbconvert_exporter": "python",
   "pygments_lexer": "ipython3",
   "version": "3.7.1"
  }
 },
 "nbformat": 4,
 "nbformat_minor": 2
}
