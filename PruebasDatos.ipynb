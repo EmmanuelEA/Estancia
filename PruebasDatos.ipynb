{
 "cells": [
  {
   "cell_type": "code",
   "execution_count": 1,
   "metadata": {},
   "outputs": [],
   "source": [
    "import pandas as pd\n",
    "import numpy as np\n",
    "import datetime\n",
    "import matplotlib.pyplot as plt"
   ]
  },
  {
   "cell_type": "code",
   "execution_count": 2,
   "metadata": {},
   "outputs": [],
   "source": [
    "data1 = pd.read_excel('~/Documents/GitHub/Estancia/DatosJuntos.xlsx','Hoja1')"
   ]
  },
  {
   "cell_type": "code",
   "execution_count": 3,
   "metadata": {},
   "outputs": [
    {
     "data": {
      "text/html": [
       "<div>\n",
       "<style scoped>\n",
       "    .dataframe tbody tr th:only-of-type {\n",
       "        vertical-align: middle;\n",
       "    }\n",
       "\n",
       "    .dataframe tbody tr th {\n",
       "        vertical-align: top;\n",
       "    }\n",
       "\n",
       "    .dataframe thead th {\n",
       "        text-align: right;\n",
       "    }\n",
       "</style>\n",
       "<table border=\"1\" class=\"dataframe\">\n",
       "  <thead>\n",
       "    <tr style=\"text-align: right;\">\n",
       "      <th></th>\n",
       "      <th>dtdirrafaga</th>\n",
       "      <th>dtdirviento</th>\n",
       "      <th>dtprecipitacion</th>\n",
       "      <th>dtraprafaga</th>\n",
       "      <th>dtrapviento</th>\n",
       "      <th>dttempaire</th>\n",
       "      <th>dthumrelativa</th>\n",
       "      <th>dtradsolar</th>\n",
       "    </tr>\n",
       "  </thead>\n",
       "  <tbody>\n",
       "    <tr>\n",
       "      <th>count</th>\n",
       "      <td>166657.000000</td>\n",
       "      <td>166657.000000</td>\n",
       "      <td>166657.000000</td>\n",
       "      <td>166657.000000</td>\n",
       "      <td>166657.000000</td>\n",
       "      <td>166657.000000</td>\n",
       "      <td>166657.000000</td>\n",
       "      <td>165990.000000</td>\n",
       "    </tr>\n",
       "    <tr>\n",
       "      <th>mean</th>\n",
       "      <td>160.788242</td>\n",
       "      <td>120.878877</td>\n",
       "      <td>0.014416</td>\n",
       "      <td>3.319929</td>\n",
       "      <td>1.275757</td>\n",
       "      <td>18.197867</td>\n",
       "      <td>52.726996</td>\n",
       "      <td>197.491668</td>\n",
       "    </tr>\n",
       "    <tr>\n",
       "      <th>std</th>\n",
       "      <td>109.657447</td>\n",
       "      <td>109.988876</td>\n",
       "      <td>0.198840</td>\n",
       "      <td>2.358366</td>\n",
       "      <td>0.905286</td>\n",
       "      <td>5.891570</td>\n",
       "      <td>26.073773</td>\n",
       "      <td>312.815085</td>\n",
       "    </tr>\n",
       "    <tr>\n",
       "      <th>min</th>\n",
       "      <td>0.000000</td>\n",
       "      <td>0.000000</td>\n",
       "      <td>0.000000</td>\n",
       "      <td>0.000000</td>\n",
       "      <td>0.000000</td>\n",
       "      <td>-0.200000</td>\n",
       "      <td>0.000000</td>\n",
       "      <td>-1.000000</td>\n",
       "    </tr>\n",
       "    <tr>\n",
       "      <th>25%</th>\n",
       "      <td>64.000000</td>\n",
       "      <td>23.000000</td>\n",
       "      <td>0.000000</td>\n",
       "      <td>1.600000</td>\n",
       "      <td>0.700000</td>\n",
       "      <td>14.300000</td>\n",
       "      <td>33.000000</td>\n",
       "      <td>-1.000000</td>\n",
       "    </tr>\n",
       "    <tr>\n",
       "      <th>50%</th>\n",
       "      <td>165.000000</td>\n",
       "      <td>66.000000</td>\n",
       "      <td>0.000000</td>\n",
       "      <td>3.000000</td>\n",
       "      <td>1.200000</td>\n",
       "      <td>17.400000</td>\n",
       "      <td>54.000000</td>\n",
       "      <td>2.000000</td>\n",
       "    </tr>\n",
       "    <tr>\n",
       "      <th>75%</th>\n",
       "      <td>250.000000</td>\n",
       "      <td>215.000000</td>\n",
       "      <td>0.000000</td>\n",
       "      <td>4.900000</td>\n",
       "      <td>1.800000</td>\n",
       "      <td>22.400000</td>\n",
       "      <td>73.000000</td>\n",
       "      <td>288.000000</td>\n",
       "    </tr>\n",
       "    <tr>\n",
       "      <th>max</th>\n",
       "      <td>360.000000</td>\n",
       "      <td>360.000000</td>\n",
       "      <td>14.800000</td>\n",
       "      <td>22.500000</td>\n",
       "      <td>8.900000</td>\n",
       "      <td>38.900000</td>\n",
       "      <td>100.000000</td>\n",
       "      <td>1388.000000</td>\n",
       "    </tr>\n",
       "  </tbody>\n",
       "</table>\n",
       "</div>"
      ],
      "text/plain": [
       "         dtdirrafaga    dtdirviento  dtprecipitacion    dtraprafaga  \\\n",
       "count  166657.000000  166657.000000    166657.000000  166657.000000   \n",
       "mean      160.788242     120.878877         0.014416       3.319929   \n",
       "std       109.657447     109.988876         0.198840       2.358366   \n",
       "min         0.000000       0.000000         0.000000       0.000000   \n",
       "25%        64.000000      23.000000         0.000000       1.600000   \n",
       "50%       165.000000      66.000000         0.000000       3.000000   \n",
       "75%       250.000000     215.000000         0.000000       4.900000   \n",
       "max       360.000000     360.000000        14.800000      22.500000   \n",
       "\n",
       "         dtrapviento     dttempaire  dthumrelativa     dtradsolar  \n",
       "count  166657.000000  166657.000000  166657.000000  165990.000000  \n",
       "mean        1.275757      18.197867      52.726996     197.491668  \n",
       "std         0.905286       5.891570      26.073773     312.815085  \n",
       "min         0.000000      -0.200000       0.000000      -1.000000  \n",
       "25%         0.700000      14.300000      33.000000      -1.000000  \n",
       "50%         1.200000      17.400000      54.000000       2.000000  \n",
       "75%         1.800000      22.400000      73.000000     288.000000  \n",
       "max         8.900000      38.900000     100.000000    1388.000000  "
      ]
     },
     "execution_count": 3,
     "metadata": {},
     "output_type": "execute_result"
    }
   ],
   "source": [
    "data1.describe()"
   ]
  },
  {
   "cell_type": "code",
   "execution_count": 4,
   "metadata": {},
   "outputs": [
    {
     "data": {
      "text/plain": [
       "Datee              datetime64[ns]\n",
       "dtdirrafaga                 int64\n",
       "dtdirviento                 int64\n",
       "dtprecipitacion           float64\n",
       "dtraprafaga               float64\n",
       "dtrapviento               float64\n",
       "dttempaire                float64\n",
       "dthumrelativa               int64\n",
       "dtradsolar                float64\n",
       "dtype: object"
      ]
     },
     "execution_count": 4,
     "metadata": {},
     "output_type": "execute_result"
    }
   ],
   "source": [
    "data1.dtypes"
   ]
  },
  {
   "cell_type": "code",
   "execution_count": 5,
   "metadata": {},
   "outputs": [
    {
     "data": {
      "text/html": [
       "<div>\n",
       "<style scoped>\n",
       "    .dataframe tbody tr th:only-of-type {\n",
       "        vertical-align: middle;\n",
       "    }\n",
       "\n",
       "    .dataframe tbody tr th {\n",
       "        vertical-align: top;\n",
       "    }\n",
       "\n",
       "    .dataframe thead th {\n",
       "        text-align: right;\n",
       "    }\n",
       "</style>\n",
       "<table border=\"1\" class=\"dataframe\">\n",
       "  <thead>\n",
       "    <tr style=\"text-align: right;\">\n",
       "      <th></th>\n",
       "      <th>dtdirrafaga</th>\n",
       "      <th>dtdirviento</th>\n",
       "      <th>dtprecipitacion</th>\n",
       "      <th>dtraprafaga</th>\n",
       "      <th>dtrapviento</th>\n",
       "      <th>dttempaire</th>\n",
       "      <th>dthumrelativa</th>\n",
       "      <th>dtradsolar</th>\n",
       "    </tr>\n",
       "  </thead>\n",
       "  <tbody>\n",
       "    <tr>\n",
       "      <th>count</th>\n",
       "      <td>166657.000000</td>\n",
       "      <td>166657.000000</td>\n",
       "      <td>166657.000000</td>\n",
       "      <td>166657.000000</td>\n",
       "      <td>166657.000000</td>\n",
       "      <td>166657.000000</td>\n",
       "      <td>166657.000000</td>\n",
       "      <td>165990.000000</td>\n",
       "    </tr>\n",
       "    <tr>\n",
       "      <th>mean</th>\n",
       "      <td>160.788242</td>\n",
       "      <td>120.878877</td>\n",
       "      <td>0.014416</td>\n",
       "      <td>3.319929</td>\n",
       "      <td>1.275757</td>\n",
       "      <td>18.197867</td>\n",
       "      <td>52.726996</td>\n",
       "      <td>197.491668</td>\n",
       "    </tr>\n",
       "    <tr>\n",
       "      <th>std</th>\n",
       "      <td>109.657447</td>\n",
       "      <td>109.988876</td>\n",
       "      <td>0.198840</td>\n",
       "      <td>2.358366</td>\n",
       "      <td>0.905286</td>\n",
       "      <td>5.891570</td>\n",
       "      <td>26.073773</td>\n",
       "      <td>312.815085</td>\n",
       "    </tr>\n",
       "    <tr>\n",
       "      <th>min</th>\n",
       "      <td>0.000000</td>\n",
       "      <td>0.000000</td>\n",
       "      <td>0.000000</td>\n",
       "      <td>0.000000</td>\n",
       "      <td>0.000000</td>\n",
       "      <td>-0.200000</td>\n",
       "      <td>0.000000</td>\n",
       "      <td>-1.000000</td>\n",
       "    </tr>\n",
       "    <tr>\n",
       "      <th>25%</th>\n",
       "      <td>64.000000</td>\n",
       "      <td>23.000000</td>\n",
       "      <td>0.000000</td>\n",
       "      <td>1.600000</td>\n",
       "      <td>0.700000</td>\n",
       "      <td>14.300000</td>\n",
       "      <td>33.000000</td>\n",
       "      <td>-1.000000</td>\n",
       "    </tr>\n",
       "    <tr>\n",
       "      <th>50%</th>\n",
       "      <td>165.000000</td>\n",
       "      <td>66.000000</td>\n",
       "      <td>0.000000</td>\n",
       "      <td>3.000000</td>\n",
       "      <td>1.200000</td>\n",
       "      <td>17.400000</td>\n",
       "      <td>54.000000</td>\n",
       "      <td>2.000000</td>\n",
       "    </tr>\n",
       "    <tr>\n",
       "      <th>75%</th>\n",
       "      <td>250.000000</td>\n",
       "      <td>215.000000</td>\n",
       "      <td>0.000000</td>\n",
       "      <td>4.900000</td>\n",
       "      <td>1.800000</td>\n",
       "      <td>22.400000</td>\n",
       "      <td>73.000000</td>\n",
       "      <td>288.000000</td>\n",
       "    </tr>\n",
       "    <tr>\n",
       "      <th>max</th>\n",
       "      <td>360.000000</td>\n",
       "      <td>360.000000</td>\n",
       "      <td>14.800000</td>\n",
       "      <td>22.500000</td>\n",
       "      <td>8.900000</td>\n",
       "      <td>38.900000</td>\n",
       "      <td>100.000000</td>\n",
       "      <td>1388.000000</td>\n",
       "    </tr>\n",
       "  </tbody>\n",
       "</table>\n",
       "</div>"
      ],
      "text/plain": [
       "         dtdirrafaga    dtdirviento  dtprecipitacion    dtraprafaga  \\\n",
       "count  166657.000000  166657.000000    166657.000000  166657.000000   \n",
       "mean      160.788242     120.878877         0.014416       3.319929   \n",
       "std       109.657447     109.988876         0.198840       2.358366   \n",
       "min         0.000000       0.000000         0.000000       0.000000   \n",
       "25%        64.000000      23.000000         0.000000       1.600000   \n",
       "50%       165.000000      66.000000         0.000000       3.000000   \n",
       "75%       250.000000     215.000000         0.000000       4.900000   \n",
       "max       360.000000     360.000000        14.800000      22.500000   \n",
       "\n",
       "         dtrapviento     dttempaire  dthumrelativa     dtradsolar  \n",
       "count  166657.000000  166657.000000  166657.000000  165990.000000  \n",
       "mean        1.275757      18.197867      52.726996     197.491668  \n",
       "std         0.905286       5.891570      26.073773     312.815085  \n",
       "min         0.000000      -0.200000       0.000000      -1.000000  \n",
       "25%         0.700000      14.300000      33.000000      -1.000000  \n",
       "50%         1.200000      17.400000      54.000000       2.000000  \n",
       "75%         1.800000      22.400000      73.000000     288.000000  \n",
       "max         8.900000      38.900000     100.000000    1388.000000  "
      ]
     },
     "execution_count": 5,
     "metadata": {},
     "output_type": "execute_result"
    }
   ],
   "source": [
    "data1.describe()"
   ]
  },
  {
   "cell_type": "code",
   "execution_count": 6,
   "metadata": {},
   "outputs": [
    {
     "data": {
      "text/plain": [
       "667"
      ]
     },
     "execution_count": 6,
     "metadata": {},
     "output_type": "execute_result"
    }
   ],
   "source": [
    "pd.isnull(data1['dtradsolar']).values.sum()"
   ]
  },
  {
   "cell_type": "code",
   "execution_count": 7,
   "metadata": {},
   "outputs": [],
   "source": [
    "data1 = data1.fillna(0)"
   ]
  },
  {
   "cell_type": "code",
   "execution_count": 8,
   "metadata": {},
   "outputs": [
    {
     "data": {
      "text/plain": [
       "<matplotlib.axes._subplots.AxesSubplot at 0x7fad61270fd0>"
      ]
     },
     "execution_count": 8,
     "metadata": {},
     "output_type": "execute_result"
    },
    {
     "data": {
      "image/png": "[encoded data removed]",
      "text/plain": [
       "<Figure size 432x288 with 1 Axes>"
      ]
     },
     "metadata": {
      "needs_background": "light"
     },
     "output_type": "display_data"
    }
   ],
   "source": [
    "%matplotlib inline\n",
    "data1.plot(kind=\"scatter\", x=\"dtradsolar\", y=\"dtdirrafaga\")"
   ]
  },
  {
   "cell_type": "code",
   "execution_count": 9,
   "metadata": {},
   "outputs": [
    {
     "data": {
      "text/plain": [
       "<matplotlib.axes._subplots.AxesSubplot at 0x7fad64597e48>"
      ]
     },
     "execution_count": 9,
     "metadata": {},
     "output_type": "execute_result"
    },
    {
     "data": {
      "image/png": "[encoded data removed]",
      "text/plain": [
       "<Figure size 432x288 with 8 Axes>"
      ]
     },
     "metadata": {
      "needs_background": "light"
     },
     "output_type": "display_data"
    }
   ],
   "source": [
    "figure, axs = plt.subplots(2,4, sharey=True, sharex=True)\n",
    "data1.plot(kind=\"scatter\", x=\"dtradsolar\", y=\"dtdirrafaga\", ax=axs[0][0])\n",
    "data1.plot(kind=\"scatter\", x=\"dtradsolar\", y=\"dtdirviento\", ax=axs[0][1])\n",
    "data1.plot(kind=\"scatter\", x=\"dtradsolar\", y=\"dtprecipitacion\", ax=axs[0][2])\n",
    "data1.plot(kind=\"scatter\", x=\"dtradsolar\", y=\"dtraprafaga\", ax=axs[0][3])\n",
    "data1.plot(kind=\"scatter\", x=\"dtradsolar\", y=\"dtrapviento\",ax=axs[1][0])\n",
    "data1.plot(kind=\"scatter\", x=\"dtradsolar\", y=\"dttempaire\", ax=axs[1][1])\n",
    "data1.plot(kind=\"scatter\", x=\"dtradsolar\", y=\"dthumrelativa\", ax=axs[1][2])"
   ]
  },
  {
   "cell_type": "code",
   "execution_count": 10,
   "metadata": {},
   "outputs": [
    {
     "data": {
      "text/plain": [
       "(array([1.01952e+05, 9.97300e+03, 7.34600e+03, 6.12500e+03, 4.94600e+03,\n",
       "        4.24900e+03, 3.54300e+03, 3.20300e+03, 3.08100e+03, 3.42900e+03,\n",
       "        3.99000e+03, 3.71900e+03, 3.44900e+03, 3.54700e+03, 2.88500e+03,\n",
       "        9.38000e+02, 2.35000e+02, 3.90000e+01, 8.00000e+00]),\n",
       " array([-1.00000000e+00,  7.21052632e+01,  1.45210526e+02,  2.18315789e+02,\n",
       "         2.91421053e+02,  3.64526316e+02,  4.37631579e+02,  5.10736842e+02,\n",
       "         5.83842105e+02,  6.56947368e+02,  7.30052632e+02,  8.03157895e+02,\n",
       "         8.76263158e+02,  9.49368421e+02,  1.02247368e+03,  1.09557895e+03,\n",
       "         1.16868421e+03,  1.24178947e+03,  1.31489474e+03,  1.38800000e+03]),\n",
       " <a list of 19 Patch objects>)"
      ]
     },
     "execution_count": 10,
     "metadata": {},
     "output_type": "execute_result"
    },
    {
     "data": {
      "image/png": "[encoded data removed]",
      "text/plain": [
       "<Figure size 432x288 with 1 Axes>"
      ]
     },
     "metadata": {
      "needs_background": "light"
     },
     "output_type": "display_data"
    }
   ],
   "source": [
    "#ceil redondea hacia arriba\n",
    "k=int(np.ceil(1+np.log2(166657))) #uso de regla de sturges para calcular\n",
    "plt.hist(data1['dtradsolar'], bins = k)\n"
   ]
  },
  {
   "cell_type": "code",
   "execution_count": 11,
   "metadata": {},
   "outputs": [
    {
     "data": {
      "text/plain": [
       "count    166657.000000\n",
       "mean        196.701261\n",
       "std         312.437383\n",
       "min          -1.000000\n",
       "25%          -1.000000\n",
       "50%           2.000000\n",
       "75%         286.000000\n",
       "max        1388.000000\n",
       "Name: dtradsolar, dtype: float64"
      ]
     },
     "execution_count": 11,
     "metadata": {},
     "output_type": "execute_result"
    },
    {
     "data": {
      "image/png": "[encoded data removed]",
      "text/plain": [
       "<Figure size 432x288 with 1 Axes>"
      ]
     },
     "metadata": {
      "needs_background": "light"
     },
     "output_type": "display_data"
    }
   ],
   "source": [
    "#boxplot muestra datos del describe, como son media, mediana, moda, etc.\n",
    "plt.boxplot(data1['dtradsolar'])\n",
    "data1['dtradsolar'].describe()"
   ]
  },
  {
   "cell_type": "code",
   "execution_count": 12,
   "metadata": {},
   "outputs": [
    {
     "data": {
      "image/png": "[encoded data removed]",
      "text/plain": [
       "<Figure size 720x720 with 1 Axes>"
      ]
     },
     "metadata": {
      "needs_background": "light"
     },
     "output_type": "display_data"
    }
   ],
   "source": [
    "# create the plot space upon which to plot the data\n",
    "fig, ax = plt.subplots(figsize = (10,10))\n",
    "\n",
    "# add the x-axis and the y-axis to the plot\n",
    "ax.plot(data1['Datee'], \n",
    "        data1['dtradsolar'], \n",
    "        color = 'red')\n",
    "\n",
    "# rotate tick labels\n",
    "plt.setp(ax.get_xticklabels(), rotation=45)\n",
    "\n",
    "# set title and labels for axes\n",
    "ax.set(xlabel=\"Date\",\n",
    "       ylabel=\"Solar Radiation\",\n",
    "       title=\"Solar radiation\");"
   ]
  },
  {
   "cell_type": "code",
   "execution_count": 13,
   "metadata": {},
   "outputs": [
    {
     "data": {
      "image/png": "[encoded data removed]",
      "text/plain": [
       "<Figure size 432x288 with 1 Axes>"
      ]
     },
     "metadata": {
      "needs_background": "light"
     },
     "output_type": "display_data"
    }
   ],
   "source": [
    "# create the plot space upon which to plot the data\n",
    "fig, ax= plt.subplots()\n",
    "\n",
    "# add the x-axis and the y-axis to the plot\n",
    "ax.plot(data1.index.values, \n",
    "        data1['dtradsolar'], \n",
    "        color = 'green')\n",
    "\n",
    "# rotate tick labels\n",
    "plt.setp(ax.get_xticklabels(), rotation=45)\n",
    "\n",
    "# set title and labels for axes\n",
    "ax.set(xlabel=\"Date\",\n",
    "       ylabel=\"Solar Radiation\",\n",
    "       title=\"Solar Radiation\");"
   ]
  },
  {
   "cell_type": "code",
   "execution_count": 14,
   "metadata": {},
   "outputs": [
    {
     "data": {
      "text/html": [
       "<div>\n",
       "<style scoped>\n",
       "    .dataframe tbody tr th:only-of-type {\n",
       "        vertical-align: middle;\n",
       "    }\n",
       "\n",
       "    .dataframe tbody tr th {\n",
       "        vertical-align: top;\n",
       "    }\n",
       "\n",
       "    .dataframe thead th {\n",
       "        text-align: right;\n",
       "    }\n",
       "</style>\n",
       "<table border=\"1\" class=\"dataframe\">\n",
       "  <thead>\n",
       "    <tr style=\"text-align: right;\">\n",
       "      <th></th>\n",
       "      <th>Datee</th>\n",
       "      <th>dtradsolar</th>\n",
       "    </tr>\n",
       "  </thead>\n",
       "  <tbody>\n",
       "    <tr>\n",
       "      <th>2</th>\n",
       "      <td>2014-01-01 00:20:00</td>\n",
       "      <td>-1.0</td>\n",
       "    </tr>\n",
       "    <tr>\n",
       "      <th>3</th>\n",
       "      <td>2014-01-01 00:30:00</td>\n",
       "      <td>-1.0</td>\n",
       "    </tr>\n",
       "    <tr>\n",
       "      <th>4</th>\n",
       "      <td>2014-01-01 00:40:00</td>\n",
       "      <td>0.0</td>\n",
       "    </tr>\n",
       "  </tbody>\n",
       "</table>\n",
       "</div>"
      ],
      "text/plain": [
       "                Datee  dtradsolar\n",
       "2 2014-01-01 00:20:00        -1.0\n",
       "3 2014-01-01 00:30:00        -1.0\n",
       "4 2014-01-01 00:40:00         0.0"
      ]
     },
     "execution_count": 14,
     "metadata": {},
     "output_type": "execute_result"
    }
   ],
   "source": [
    "data1[2:5][['Datee','dtradsolar']]"
   ]
  },
  {
   "cell_type": "code",
   "execution_count": 15,
   "metadata": {},
   "outputs": [
    {
     "data": {
      "text/html": [
       "<div>\n",
       "<style scoped>\n",
       "    .dataframe tbody tr th:only-of-type {\n",
       "        vertical-align: middle;\n",
       "    }\n",
       "\n",
       "    .dataframe tbody tr th {\n",
       "        vertical-align: top;\n",
       "    }\n",
       "\n",
       "    .dataframe thead th {\n",
       "        text-align: right;\n",
       "    }\n",
       "</style>\n",
       "<table border=\"1\" class=\"dataframe\">\n",
       "  <thead>\n",
       "    <tr style=\"text-align: right;\">\n",
       "      <th></th>\n",
       "      <th>Datee</th>\n",
       "      <th>dtdirrafaga</th>\n",
       "      <th>dtdirviento</th>\n",
       "    </tr>\n",
       "  </thead>\n",
       "  <tbody>\n",
       "    <tr>\n",
       "      <th>1</th>\n",
       "      <td>2014-01-01 00:10:00</td>\n",
       "      <td>0</td>\n",
       "      <td>0</td>\n",
       "    </tr>\n",
       "    <tr>\n",
       "      <th>2</th>\n",
       "      <td>2014-01-01 00:20:00</td>\n",
       "      <td>180</td>\n",
       "      <td>11</td>\n",
       "    </tr>\n",
       "  </tbody>\n",
       "</table>\n",
       "</div>"
      ],
      "text/plain": [
       "                Datee  dtdirrafaga  dtdirviento\n",
       "1 2014-01-01 00:10:00            0            0\n",
       "2 2014-01-01 00:20:00          180           11"
      ]
     },
     "execution_count": 15,
     "metadata": {},
     "output_type": "execute_result"
    }
   ],
   "source": [
    "data1.iloc[1:3, 0:3]"
   ]
  },
  {
   "cell_type": "code",
   "execution_count": 16,
   "metadata": {},
   "outputs": [
    {
     "data": {
      "text/plain": [
       "2013-01-01   NaT\n",
       "2013-01-02   NaT\n",
       "2013-01-03   NaT\n",
       "2013-01-04   NaT\n",
       "2013-01-05   NaT\n",
       "2013-01-06   NaT\n",
       "2013-01-07   NaT\n",
       "2013-01-08   NaT\n",
       "2013-01-09   NaT\n",
       "2013-01-10   NaT\n",
       "2013-01-11   NaT\n",
       "2013-01-12   NaT\n",
       "2013-01-13   NaT\n",
       "2013-01-14   NaT\n",
       "2013-01-15   NaT\n",
       "2013-01-16   NaT\n",
       "2013-01-17   NaT\n",
       "2013-01-18   NaT\n",
       "2013-01-19   NaT\n",
       "2013-01-20   NaT\n",
       "2013-01-21   NaT\n",
       "2013-01-22   NaT\n",
       "2013-01-23   NaT\n",
       "2013-01-24   NaT\n",
       "2013-01-25   NaT\n",
       "2013-01-26   NaT\n",
       "2013-01-27   NaT\n",
       "2013-01-28   NaT\n",
       "2013-01-29   NaT\n",
       "2013-01-30   NaT\n",
       "              ..\n",
       "2013-12-02   NaT\n",
       "2013-12-03   NaT\n",
       "2013-12-04   NaT\n",
       "2013-12-05   NaT\n",
       "2013-12-06   NaT\n",
       "2013-12-07   NaT\n",
       "2013-12-08   NaT\n",
       "2013-12-09   NaT\n",
       "2013-12-10   NaT\n",
       "2013-12-11   NaT\n",
       "2013-12-12   NaT\n",
       "2013-12-13   NaT\n",
       "2013-12-14   NaT\n",
       "2013-12-15   NaT\n",
       "2013-12-16   NaT\n",
       "2013-12-17   NaT\n",
       "2013-12-18   NaT\n",
       "2013-12-19   NaT\n",
       "2013-12-20   NaT\n",
       "2013-12-21   NaT\n",
       "2013-12-22   NaT\n",
       "2013-12-23   NaT\n",
       "2013-12-24   NaT\n",
       "2013-12-25   NaT\n",
       "2013-12-26   NaT\n",
       "2013-12-27   NaT\n",
       "2013-12-28   NaT\n",
       "2013-12-29   NaT\n",
       "2013-12-30   NaT\n",
       "2013-12-31   NaT\n",
       "Freq: D, Name: Datee, Length: 365, dtype: datetime64[ns]"
      ]
     },
     "execution_count": 16,
     "metadata": {},
     "output_type": "execute_result"
    }
   ],
   "source": [
    "data1.Datee[pd.date_range('20130101', '20131231')]"
   ]
  },
  {
   "cell_type": "code",
   "execution_count": 17,
   "metadata": {},
   "outputs": [],
   "source": [
    "df2 = data1[data1['dtradsolar']>0]"
   ]
  },
  {
   "cell_type": "code",
   "execution_count": 18,
   "metadata": {},
   "outputs": [],
   "source": [
    "df_plot = df2[(df2['Datee']>'2014-01-01') & (df2['Datee']< '2014-12-31')]"
   ]
  },
  {
   "cell_type": "code",
   "execution_count": 19,
   "metadata": {},
   "outputs": [
    {
     "data": {
      "text/plain": [
       "[<matplotlib.lines.Line2D at 0x7fad65af39e8>]"
      ]
     },
     "execution_count": 19,
     "metadata": {},
     "output_type": "execute_result"
    },
    {
     "data": {
      "image/png": "[encoded data removed]",
      "text/plain": [
       "<Figure size 432x288 with 1 Axes>"
      ]
     },
     "metadata": {
      "needs_background": "light"
     },
     "output_type": "display_data"
    }
   ],
   "source": [
    "plt.plot(df_plot['dtradsolar'].tail(300))"
   ]
  },
  {
   "cell_type": "code",
   "execution_count": 20,
   "metadata": {},
   "outputs": [
    {
     "data": {
      "text/plain": [
       "[<matplotlib.lines.Line2D at 0x7fad64058320>]"
      ]
     },
     "execution_count": 20,
     "metadata": {},
     "output_type": "execute_result"
    },
    {
     "data": {
      "image/png": "[encoded data removed]",
      "text/plain": [
       "<Figure size 432x288 with 1 Axes>"
      ]
     },
     "metadata": {
      "needs_background": "light"
     },
     "output_type": "display_data"
    }
   ],
   "source": [
    "plt.plot(df_plot['dthumrelativa'].tail(300))"
   ]
  },
  {
   "cell_type": "code",
   "execution_count": 21,
   "metadata": {},
   "outputs": [
    {
     "data": {
      "text/html": [
       "<div>\n",
       "<style scoped>\n",
       "    .dataframe tbody tr th:only-of-type {\n",
       "        vertical-align: middle;\n",
       "    }\n",
       "\n",
       "    .dataframe tbody tr th {\n",
       "        vertical-align: top;\n",
       "    }\n",
       "\n",
       "    .dataframe thead th {\n",
       "        text-align: right;\n",
       "    }\n",
       "</style>\n",
       "<table border=\"1\" class=\"dataframe\">\n",
       "  <thead>\n",
       "    <tr style=\"text-align: right;\">\n",
       "      <th></th>\n",
       "      <th>Datee</th>\n",
       "      <th>dtdirrafaga</th>\n",
       "      <th>dtdirviento</th>\n",
       "      <th>dtprecipitacion</th>\n",
       "      <th>dtraprafaga</th>\n",
       "      <th>dtrapviento</th>\n",
       "      <th>dttempaire</th>\n",
       "      <th>dthumrelativa</th>\n",
       "      <th>dtradsolar</th>\n",
       "    </tr>\n",
       "  </thead>\n",
       "  <tbody>\n",
       "    <tr>\n",
       "      <th>44</th>\n",
       "      <td>2014-01-01 07:20:00</td>\n",
       "      <td>360</td>\n",
       "      <td>289</td>\n",
       "      <td>0.0</td>\n",
       "      <td>1.6</td>\n",
       "      <td>0.6</td>\n",
       "      <td>9.3</td>\n",
       "      <td>0</td>\n",
       "      <td>3.0</td>\n",
       "    </tr>\n",
       "    <tr>\n",
       "      <th>45</th>\n",
       "      <td>2014-01-01 07:30:00</td>\n",
       "      <td>0</td>\n",
       "      <td>0</td>\n",
       "      <td>0.0</td>\n",
       "      <td>0.0</td>\n",
       "      <td>0.0</td>\n",
       "      <td>9.3</td>\n",
       "      <td>0</td>\n",
       "      <td>11.0</td>\n",
       "    </tr>\n",
       "    <tr>\n",
       "      <th>46</th>\n",
       "      <td>2014-01-01 07:40:00</td>\n",
       "      <td>0</td>\n",
       "      <td>0</td>\n",
       "      <td>0.0</td>\n",
       "      <td>0.0</td>\n",
       "      <td>0.0</td>\n",
       "      <td>9.5</td>\n",
       "      <td>0</td>\n",
       "      <td>12.0</td>\n",
       "    </tr>\n",
       "    <tr>\n",
       "      <th>47</th>\n",
       "      <td>2014-01-01 07:50:00</td>\n",
       "      <td>0</td>\n",
       "      <td>0</td>\n",
       "      <td>0.0</td>\n",
       "      <td>0.0</td>\n",
       "      <td>0.0</td>\n",
       "      <td>9.5</td>\n",
       "      <td>0</td>\n",
       "      <td>21.0</td>\n",
       "    </tr>\n",
       "    <tr>\n",
       "      <th>48</th>\n",
       "      <td>2014-01-01 08:00:00</td>\n",
       "      <td>0</td>\n",
       "      <td>0</td>\n",
       "      <td>0.0</td>\n",
       "      <td>0.0</td>\n",
       "      <td>0.0</td>\n",
       "      <td>9.7</td>\n",
       "      <td>0</td>\n",
       "      <td>31.0</td>\n",
       "    </tr>\n",
       "  </tbody>\n",
       "</table>\n",
       "</div>"
      ],
      "text/plain": [
       "                 Datee  dtdirrafaga  dtdirviento  dtprecipitacion  \\\n",
       "44 2014-01-01 07:20:00          360          289              0.0   \n",
       "45 2014-01-01 07:30:00            0            0              0.0   \n",
       "46 2014-01-01 07:40:00            0            0              0.0   \n",
       "47 2014-01-01 07:50:00            0            0              0.0   \n",
       "48 2014-01-01 08:00:00            0            0              0.0   \n",
       "\n",
       "    dtraprafaga  dtrapviento  dttempaire  dthumrelativa  dtradsolar  \n",
       "44          1.6          0.6         9.3              0         3.0  \n",
       "45          0.0          0.0         9.3              0        11.0  \n",
       "46          0.0          0.0         9.5              0        12.0  \n",
       "47          0.0          0.0         9.5              0        21.0  \n",
       "48          0.0          0.0         9.7              0        31.0  "
      ]
     },
     "execution_count": 21,
     "metadata": {},
     "output_type": "execute_result"
    }
   ],
   "source": [
    "df_plot.head()"
   ]
  },
  {
   "cell_type": "code",
   "execution_count": 22,
   "metadata": {},
   "outputs": [],
   "source": [
    "# modelo lineal\n",
    "import statsmodels.formula.api as smf"
   ]
  },
  {
   "cell_type": "code",
   "execution_count": 23,
   "metadata": {},
   "outputs": [
    {
     "data": {
      "text/plain": [
       "Intercept      184.116002\n",
       "dtdirrafaga      0.078272\n",
       "dtype: float64"
      ]
     },
     "execution_count": 23,
     "metadata": {},
     "output_type": "execute_result"
    }
   ],
   "source": [
    "lm = smf.ols(formula=\"dtradsolar~dtdirrafaga\", data = data1).fit()\n",
    "lm.params"
   ]
  },
  {
   "cell_type": "markdown",
   "metadata": {},
   "source": [
    "El modelo lineal predictivo seria: 16.984368 + 0.003158 * dtradsolar\n"
   ]
  },
  {
   "cell_type": "code",
   "execution_count": 24,
   "metadata": {},
   "outputs": [
    {
     "data": {
      "text/plain": [
       "Intercept      0.000000e+00\n",
       "dtdirrafaga    3.368115e-29\n",
       "dtype: float64"
      ]
     },
     "execution_count": 24,
     "metadata": {},
     "output_type": "execute_result"
    }
   ],
   "source": [
    "#mostrar los p-valores para garantizar que no son  0\n",
    "lm.pvalues"
   ]
  },
  {
   "cell_type": "code",
   "execution_count": 25,
   "metadata": {},
   "outputs": [
    {
     "data": {
      "text/plain": [
       "0.0007546854449795859"
      ]
     },
     "execution_count": 25,
     "metadata": {},
     "output_type": "execute_result"
    }
   ],
   "source": [
    "#Checar R²\n",
    "lm.rsquared"
   ]
  },
  {
   "cell_type": "code",
   "execution_count": 26,
   "metadata": {},
   "outputs": [
    {
     "data": {
      "text/plain": [
       "0.000748689553379922"
      ]
     },
     "execution_count": 26,
     "metadata": {},
     "output_type": "execute_result"
    }
   ],
   "source": [
    "#R² ajustado\n",
    "lm.rsquared_adj"
   ]
  },
  {
   "cell_type": "code",
   "execution_count": 27,
   "metadata": {},
   "outputs": [
    {
     "data": {
      "text/html": [
       "<table class=\"simpletable\">\n",
       "<caption>OLS Regression Results</caption>\n",
       "<tr>\n",
       "  <th>Dep. Variable:</th>       <td>dtradsolar</td>    <th>  R-squared:         </th>  <td>   0.001</td>  \n",
       "</tr>\n",
       "<tr>\n",
       "  <th>Model:</th>                   <td>OLS</td>       <th>  Adj. R-squared:    </th>  <td>   0.001</td>  \n",
       "</tr>\n",
       "<tr>\n",
       "  <th>Method:</th>             <td>Least Squares</td>  <th>  F-statistic:       </th>  <td>   125.9</td>  \n",
       "</tr>\n",
       "<tr>\n",
       "  <th>Date:</th>             <td>Sun, 17 Mar 2019</td> <th>  Prob (F-statistic):</th>  <td>3.37e-29</td>  \n",
       "</tr>\n",
       "<tr>\n",
       "  <th>Time:</th>                 <td>15:33:09</td>     <th>  Log-Likelihood:    </th> <td>-1.1938e+06</td>\n",
       "</tr>\n",
       "<tr>\n",
       "  <th>No. Observations:</th>      <td>166657</td>      <th>  AIC:               </th>  <td>2.388e+06</td> \n",
       "</tr>\n",
       "<tr>\n",
       "  <th>Df Residuals:</th>          <td>166655</td>      <th>  BIC:               </th>  <td>2.388e+06</td> \n",
       "</tr>\n",
       "<tr>\n",
       "  <th>Df Model:</th>              <td>     1</td>      <th>                     </th>      <td> </td>     \n",
       "</tr>\n",
       "<tr>\n",
       "  <th>Covariance Type:</th>      <td>nonrobust</td>    <th>                     </th>      <td> </td>     \n",
       "</tr>\n",
       "</table>\n",
       "<table class=\"simpletable\">\n",
       "<tr>\n",
       "       <td></td>          <th>coef</th>     <th>std err</th>      <th>t</th>      <th>P>|t|</th>  <th>[0.025</th>    <th>0.975]</th>  \n",
       "</tr>\n",
       "<tr>\n",
       "  <th>Intercept</th>   <td>  184.1160</td> <td>    1.358</td> <td>  135.597</td> <td> 0.000</td> <td>  181.455</td> <td>  186.777</td>\n",
       "</tr>\n",
       "<tr>\n",
       "  <th>dtdirrafaga</th> <td>    0.0783</td> <td>    0.007</td> <td>   11.219</td> <td> 0.000</td> <td>    0.065</td> <td>    0.092</td>\n",
       "</tr>\n",
       "</table>\n",
       "<table class=\"simpletable\">\n",
       "<tr>\n",
       "  <th>Omnibus:</th>       <td>39297.178</td> <th>  Durbin-Watson:     </th> <td>   0.176</td> \n",
       "</tr>\n",
       "<tr>\n",
       "  <th>Prob(Omnibus):</th>  <td> 0.000</td>   <th>  Jarque-Bera (JB):  </th> <td>73544.976</td>\n",
       "</tr>\n",
       "<tr>\n",
       "  <th>Skew:</th>           <td> 1.537</td>   <th>  Prob(JB):          </th> <td>    0.00</td> \n",
       "</tr>\n",
       "<tr>\n",
       "  <th>Kurtosis:</th>       <td> 4.071</td>   <th>  Cond. No.          </th> <td>    345.</td> \n",
       "</tr>\n",
       "</table><br/><br/>Warnings:<br/>[1] Standard Errors assume that the covariance matrix of the errors is correctly specified."
      ],
      "text/plain": [
       "<class 'statsmodels.iolib.summary.Summary'>\n",
       "\"\"\"\n",
       "                            OLS Regression Results                            \n",
       "==============================================================================\n",
       "Dep. Variable:             dtradsolar   R-squared:                       0.001\n",
       "Model:                            OLS   Adj. R-squared:                  0.001\n",
       "Method:                 Least Squares   F-statistic:                     125.9\n",
       "Date:                Sun, 17 Mar 2019   Prob (F-statistic):           3.37e-29\n",
       "Time:                        15:33:09   Log-Likelihood:            -1.1938e+06\n",
       "No. Observations:              166657   AIC:                         2.388e+06\n",
       "Df Residuals:                  166655   BIC:                         2.388e+06\n",
       "Df Model:                           1                                         \n",
       "Covariance Type:            nonrobust                                         \n",
       "===============================================================================\n",
       "                  coef    std err          t      P>|t|      [0.025      0.975]\n",
       "-------------------------------------------------------------------------------\n",
       "Intercept     184.1160      1.358    135.597      0.000     181.455     186.777\n",
       "dtdirrafaga     0.0783      0.007     11.219      0.000       0.065       0.092\n",
       "==============================================================================\n",
       "Omnibus:                    39297.178   Durbin-Watson:                   0.176\n",
       "Prob(Omnibus):                  0.000   Jarque-Bera (JB):            73544.976\n",
       "Skew:                           1.537   Prob(JB):                         0.00\n",
       "Kurtosis:                       4.071   Cond. No.                         345.\n",
       "==============================================================================\n",
       "\n",
       "Warnings:\n",
       "[1] Standard Errors assume that the covariance matrix of the errors is correctly specified.\n",
       "\"\"\""
      ]
     },
     "execution_count": 27,
     "metadata": {},
     "output_type": "execute_result"
    }
   ],
   "source": [
    "#Resumen de la regresion lineal\n",
    "lm.summary()"
   ]
  },
  {
   "cell_type": "code",
   "execution_count": 28,
   "metadata": {},
   "outputs": [
    {
     "data": {
      "text/plain": [
       "0         184.116002\n",
       "1         184.116002\n",
       "2         198.205008\n",
       "3         195.856841\n",
       "4         184.116002\n",
       "5         205.249511\n",
       "6         204.310244\n",
       "7         184.116002\n",
       "8         203.605794\n",
       "9         203.527522\n",
       "10        207.597679\n",
       "11        184.116002\n",
       "12        188.812338\n",
       "13        184.116002\n",
       "14        184.116002\n",
       "15        184.116002\n",
       "16        186.464170\n",
       "17        184.116002\n",
       "18        188.655793\n",
       "19        192.256317\n",
       "20        184.116002\n",
       "21        184.116002\n",
       "22        184.116002\n",
       "23        184.116002\n",
       "24        184.116002\n",
       "25        184.116002\n",
       "26        204.623333\n",
       "27        184.116002\n",
       "28        200.553176\n",
       "29        184.116002\n",
       "             ...    \n",
       "166627    194.056579\n",
       "166628    194.526212\n",
       "166629    199.613909\n",
       "166630    190.847416\n",
       "166631    186.464170\n",
       "166632    194.447940\n",
       "166633    188.342704\n",
       "166634    186.307625\n",
       "166635    188.890610\n",
       "166636    186.229353\n",
       "166637    185.994536\n",
       "166638    189.281971\n",
       "166639    209.397941\n",
       "166640    207.989040\n",
       "166641    203.762338\n",
       "166642    199.926998\n",
       "166643    195.152390\n",
       "166644    196.874380\n",
       "166645    204.466789\n",
       "166646    195.387207\n",
       "166647    187.168620\n",
       "166648    201.414171\n",
       "166649    205.484328\n",
       "166650    185.681447\n",
       "166651    210.102391\n",
       "166652    189.360243\n",
       "166653    184.116002\n",
       "166654    198.752914\n",
       "166655    195.778568\n",
       "166656    195.308935\n",
       "Length: 166657, dtype: float64"
      ]
     },
     "execution_count": 28,
     "metadata": {},
     "output_type": "execute_result"
    }
   ],
   "source": [
    "Predic_RS = lm.predict(pd.DataFrame(data1['dtdirrafaga']))\n",
    "Predic_RS"
   ]
  },
  {
   "cell_type": "code",
   "execution_count": 29,
   "metadata": {},
   "outputs": [],
   "source": [
    "DFTest = df_plot.head(100)\n",
    "FC = [\"dtdirrafaga\", \"dtdirviento\", \"dtprecipitacion\", \"dtraprafaga\", \"dtrapviento\", \"dttempaire\", \"dthumrelativa\"]"
   ]
  },
  {
   "cell_type": "code",
   "execution_count": 30,
   "metadata": {},
   "outputs": [],
   "source": [
    "X = data1[FC]\n",
    "Y = data1[\"dtradsolar\"]"
   ]
  },
  {
   "cell_type": "code",
   "execution_count": 31,
   "metadata": {},
   "outputs": [
    {
     "data": {
      "text/plain": [
       "LinearRegression(copy_X=True, fit_intercept=True, n_jobs=None,\n",
       "         normalize=False)"
      ]
     },
     "execution_count": 31,
     "metadata": {},
     "output_type": "execute_result"
    }
   ],
   "source": [
    "from sklearn.linear_model import LinearRegression\n",
    "lm = LinearRegression()\n",
    "lm.fit(X,Y)"
   ]
  },
  {
   "cell_type": "code",
   "execution_count": 32,
   "metadata": {},
   "outputs": [
    {
     "name": "stdout",
     "output_type": "stream",
     "text": [
      "99.36018481062794\n",
      "[ 3.00386362e-02 -5.03249875e-02  1.70838831e+01  2.03631409e+01\n",
      " -3.49084652e+01  2.41627738e+00  5.93768163e-01]\n"
     ]
    }
   ],
   "source": [
    "print(lm.intercept_)\n",
    "print(lm.coef_)"
   ]
  },
  {
   "cell_type": "code",
   "execution_count": 33,
   "metadata": {},
   "outputs": [
    {
     "data": {
      "text/plain": [
       "[('dtdirrafaga', 0.030038636236787996),\n",
       " ('dtdirviento', -0.050324987504394424),\n",
       " ('dtprecipitacion', 17.08388306486039),\n",
       " ('dtraprafaga', 20.363140895814816),\n",
       " ('dtrapviento', -34.90846523326029),\n",
       " ('dttempaire', 2.4162773778188242),\n",
       " ('dthumrelativa', 0.5937681630032094)]"
      ]
     },
     "execution_count": 33,
     "metadata": {},
     "output_type": "execute_result"
    }
   ],
   "source": [
    "list(zip(FC,lm.coef_))"
   ]
  },
  {
   "cell_type": "code",
   "execution_count": 34,
   "metadata": {},
   "outputs": [
    {
     "data": {
      "text/plain": [
       "0.00893479239182604"
      ]
     },
     "execution_count": 34,
     "metadata": {},
     "output_type": "execute_result"
    }
   ],
   "source": [
    "lm.score(X,Y)"
   ]
  },
  {
   "cell_type": "code",
   "execution_count": 35,
   "metadata": {},
   "outputs": [],
   "source": [
    "data1[\"Predict_RSolar\"] = 99.36018481062794 + data1[\"dtdirrafaga\"] * 0.030038636236787996 + data1[\"dtdirviento\"] * (-0.050324987504394424) + data1[\"dtprecipitacion\"] * 17.08388306486039 + data1['dtraprafaga'] * 20.363140895814816 + data1['dtrapviento'] * (-34.90846523326029) + data1['dttempaire'] * 2.4162773778188242 + data1['dthumrelativa'] * 0.5937681630032094"
   ]
  },
  {
   "cell_type": "code",
   "execution_count": 36,
   "metadata": {
    "scrolled": true
   },
   "outputs": [
    {
     "data": {
      "text/html": [
       "<div>\n",
       "<style scoped>\n",
       "    .dataframe tbody tr th:only-of-type {\n",
       "        vertical-align: middle;\n",
       "    }\n",
       "\n",
       "    .dataframe tbody tr th {\n",
       "        vertical-align: top;\n",
       "    }\n",
       "\n",
       "    .dataframe thead th {\n",
       "        text-align: right;\n",
       "    }\n",
       "</style>\n",
       "<table border=\"1\" class=\"dataframe\">\n",
       "  <thead>\n",
       "    <tr style=\"text-align: right;\">\n",
       "      <th></th>\n",
       "      <th>Datee</th>\n",
       "      <th>dtdirrafaga</th>\n",
       "      <th>dtdirviento</th>\n",
       "      <th>dtprecipitacion</th>\n",
       "      <th>dtraprafaga</th>\n",
       "      <th>dtrapviento</th>\n",
       "      <th>dttempaire</th>\n",
       "      <th>dthumrelativa</th>\n",
       "      <th>dtradsolar</th>\n",
       "      <th>Predict_RSolar</th>\n",
       "    </tr>\n",
       "  </thead>\n",
       "  <tbody>\n",
       "    <tr>\n",
       "      <th>0</th>\n",
       "      <td>2014-01-01 00:00:00</td>\n",
       "      <td>0</td>\n",
       "      <td>0</td>\n",
       "      <td>0.0</td>\n",
       "      <td>0.0</td>\n",
       "      <td>0.0</td>\n",
       "      <td>10.6</td>\n",
       "      <td>0</td>\n",
       "      <td>0.0</td>\n",
       "      <td>124.972725</td>\n",
       "    </tr>\n",
       "    <tr>\n",
       "      <th>1</th>\n",
       "      <td>2014-01-01 00:10:00</td>\n",
       "      <td>0</td>\n",
       "      <td>0</td>\n",
       "      <td>0.0</td>\n",
       "      <td>0.0</td>\n",
       "      <td>0.0</td>\n",
       "      <td>10.6</td>\n",
       "      <td>0</td>\n",
       "      <td>0.0</td>\n",
       "      <td>124.972725</td>\n",
       "    </tr>\n",
       "    <tr>\n",
       "      <th>2</th>\n",
       "      <td>2014-01-01 00:20:00</td>\n",
       "      <td>180</td>\n",
       "      <td>11</td>\n",
       "      <td>0.0</td>\n",
       "      <td>1.7</td>\n",
       "      <td>0.6</td>\n",
       "      <td>10.5</td>\n",
       "      <td>0</td>\n",
       "      <td>-1.0</td>\n",
       "      <td>143.256737</td>\n",
       "    </tr>\n",
       "    <tr>\n",
       "      <th>3</th>\n",
       "      <td>2014-01-01 00:30:00</td>\n",
       "      <td>150</td>\n",
       "      <td>71</td>\n",
       "      <td>0.0</td>\n",
       "      <td>1.5</td>\n",
       "      <td>0.6</td>\n",
       "      <td>10.7</td>\n",
       "      <td>0</td>\n",
       "      <td>-1.0</td>\n",
       "      <td>135.746706</td>\n",
       "    </tr>\n",
       "    <tr>\n",
       "      <th>4</th>\n",
       "      <td>2014-01-01 00:40:00</td>\n",
       "      <td>0</td>\n",
       "      <td>0</td>\n",
       "      <td>0.0</td>\n",
       "      <td>0.0</td>\n",
       "      <td>0.0</td>\n",
       "      <td>10.6</td>\n",
       "      <td>0</td>\n",
       "      <td>0.0</td>\n",
       "      <td>124.972725</td>\n",
       "    </tr>\n",
       "  </tbody>\n",
       "</table>\n",
       "</div>"
      ],
      "text/plain": [
       "                Datee  dtdirrafaga  dtdirviento  dtprecipitacion  dtraprafaga  \\\n",
       "0 2014-01-01 00:00:00            0            0              0.0          0.0   \n",
       "1 2014-01-01 00:10:00            0            0              0.0          0.0   \n",
       "2 2014-01-01 00:20:00          180           11              0.0          1.7   \n",
       "3 2014-01-01 00:30:00          150           71              0.0          1.5   \n",
       "4 2014-01-01 00:40:00            0            0              0.0          0.0   \n",
       "\n",
       "   dtrapviento  dttempaire  dthumrelativa  dtradsolar  Predict_RSolar  \n",
       "0          0.0        10.6              0         0.0      124.972725  \n",
       "1          0.0        10.6              0         0.0      124.972725  \n",
       "2          0.6        10.5              0        -1.0      143.256737  \n",
       "3          0.6        10.7              0        -1.0      135.746706  \n",
       "4          0.0        10.6              0         0.0      124.972725  "
      ]
     },
     "execution_count": 36,
     "metadata": {},
     "output_type": "execute_result"
    }
   ],
   "source": [
    "data1.head()"
   ]
  },
  {
   "cell_type": "markdown",
   "metadata": {},
   "source": [
    "## Nuevos datos INIFAP"
   ]
  },
  {
   "cell_type": "code",
   "execution_count": 46,
   "metadata": {},
   "outputs": [
    {
     "data": {
      "text/html": [
       "<div>\n",
       "<style scoped>\n",
       "    .dataframe tbody tr th:only-of-type {\n",
       "        vertical-align: middle;\n",
       "    }\n",
       "\n",
       "    .dataframe tbody tr th {\n",
       "        vertical-align: top;\n",
       "    }\n",
       "\n",
       "    .dataframe thead th {\n",
       "        text-align: right;\n",
       "    }\n",
       "</style>\n",
       "<table border=\"1\" class=\"dataframe\">\n",
       "  <thead>\n",
       "    <tr style=\"text-align: right;\">\n",
       "      <th></th>\n",
       "      <th>Fecha</th>\n",
       "      <th>Prec</th>\n",
       "      <th>Temt</th>\n",
       "      <th>Vel.V</th>\n",
       "      <th>Dir.V</th>\n",
       "      <th>Hum.R</th>\n",
       "      <th>Rad.G</th>\n",
       "      <th>Et</th>\n",
       "    </tr>\n",
       "  </thead>\n",
       "  <tbody>\n",
       "    <tr>\n",
       "      <th>0</th>\n",
       "      <td>2013-01-01 00:00:00</td>\n",
       "      <td>0.0</td>\n",
       "      <td>13.6</td>\n",
       "      <td>1.0</td>\n",
       "      <td>235.5</td>\n",
       "      <td>80.0</td>\n",
       "      <td>0.0</td>\n",
       "      <td>NaN</td>\n",
       "    </tr>\n",
       "    <tr>\n",
       "      <th>1</th>\n",
       "      <td>2013-01-01 00:15:00</td>\n",
       "      <td>0.0</td>\n",
       "      <td>13.5</td>\n",
       "      <td>0.1</td>\n",
       "      <td>232.1</td>\n",
       "      <td>81.0</td>\n",
       "      <td>0.0</td>\n",
       "      <td>NaN</td>\n",
       "    </tr>\n",
       "    <tr>\n",
       "      <th>2</th>\n",
       "      <td>2013-01-01 00:30:00</td>\n",
       "      <td>0.0</td>\n",
       "      <td>13.7</td>\n",
       "      <td>1.4</td>\n",
       "      <td>235.2</td>\n",
       "      <td>81.0</td>\n",
       "      <td>0.0</td>\n",
       "      <td>NaN</td>\n",
       "    </tr>\n",
       "    <tr>\n",
       "      <th>3</th>\n",
       "      <td>2013-01-01 00:45:00</td>\n",
       "      <td>0.0</td>\n",
       "      <td>13.7</td>\n",
       "      <td>0.1</td>\n",
       "      <td>225.1</td>\n",
       "      <td>82.0</td>\n",
       "      <td>0.0</td>\n",
       "      <td>0.0</td>\n",
       "    </tr>\n",
       "    <tr>\n",
       "      <th>4</th>\n",
       "      <td>2013-01-01 01:00:00</td>\n",
       "      <td>0.0</td>\n",
       "      <td>13.6</td>\n",
       "      <td>0.2</td>\n",
       "      <td>245.7</td>\n",
       "      <td>83.0</td>\n",
       "      <td>0.0</td>\n",
       "      <td>NaN</td>\n",
       "    </tr>\n",
       "  </tbody>\n",
       "</table>\n",
       "</div>"
      ],
      "text/plain": [
       "                Fecha  Prec  Temt  Vel.V  Dir.V  Hum.R  Rad.G   Et\n",
       "0 2013-01-01 00:00:00   0.0  13.6    1.0  235.5   80.0    0.0  NaN\n",
       "1 2013-01-01 00:15:00   0.0  13.5    0.1  232.1   81.0    0.0  NaN\n",
       "2 2013-01-01 00:30:00   0.0  13.7    1.4  235.2   81.0    0.0  NaN\n",
       "3 2013-01-01 00:45:00   0.0  13.7    0.1  225.1   82.0    0.0  0.0\n",
       "4 2013-01-01 01:00:00   0.0  13.6    0.2  245.7   83.0    0.0  NaN"
      ]
     },
     "execution_count": 46,
     "metadata": {},
     "output_type": "execute_result"
    }
   ],
   "source": [
    "nwdata = pd.read_excel('BD_GTO19.xlsx', skiprows=4)\n",
    "nwdata.head()"
   ]
  },
  {
   "cell_type": "code",
   "execution_count": 47,
   "metadata": {},
   "outputs": [
    {
     "data": {
      "text/plain": [
       "Index(['Fecha', 'Prec', 'Temt', 'Vel.V', 'Dir.V', 'Hum.R', 'Rad.G', 'Et'], dtype='object')"
      ]
     },
     "execution_count": 47,
     "metadata": {},
     "output_type": "execute_result"
    }
   ],
   "source": [
    "idata = nwdata.columns\n",
    "idata"
   ]
  },
  {
   "cell_type": "code",
   "execution_count": 52,
   "metadata": {},
   "outputs": [
    {
     "data": {
      "text/html": [
       "<div>\n",
       "<style scoped>\n",
       "    .dataframe tbody tr th:only-of-type {\n",
       "        vertical-align: middle;\n",
       "    }\n",
       "\n",
       "    .dataframe tbody tr th {\n",
       "        vertical-align: top;\n",
       "    }\n",
       "\n",
       "    .dataframe thead th {\n",
       "        text-align: right;\n",
       "    }\n",
       "</style>\n",
       "<table border=\"1\" class=\"dataframe\">\n",
       "  <thead>\n",
       "    <tr style=\"text-align: right;\">\n",
       "      <th></th>\n",
       "      <th>Prec</th>\n",
       "      <th>Temt</th>\n",
       "      <th>Vel.V</th>\n",
       "      <th>Dir.V</th>\n",
       "      <th>Hum.R</th>\n",
       "      <th>Rad.G</th>\n",
       "      <th>Et</th>\n",
       "    </tr>\n",
       "  </thead>\n",
       "  <tbody>\n",
       "    <tr>\n",
       "      <th>count</th>\n",
       "      <td>192652.000000</td>\n",
       "      <td>192652.000000</td>\n",
       "      <td>192652.000000</td>\n",
       "      <td>192652.000000</td>\n",
       "      <td>192652.000000</td>\n",
       "      <td>192652.000000</td>\n",
       "      <td>192652.000000</td>\n",
       "    </tr>\n",
       "    <tr>\n",
       "      <th>mean</th>\n",
       "      <td>0.013669</td>\n",
       "      <td>17.149964</td>\n",
       "      <td>3.483889</td>\n",
       "      <td>128.957871</td>\n",
       "      <td>54.095208</td>\n",
       "      <td>234.243626</td>\n",
       "      <td>0.043751</td>\n",
       "    </tr>\n",
       "    <tr>\n",
       "      <th>std</th>\n",
       "      <td>0.202328</td>\n",
       "      <td>7.538828</td>\n",
       "      <td>4.855469</td>\n",
       "      <td>107.301537</td>\n",
       "      <td>27.326581</td>\n",
       "      <td>334.088118</td>\n",
       "      <td>0.144126</td>\n",
       "    </tr>\n",
       "    <tr>\n",
       "      <th>min</th>\n",
       "      <td>0.000000</td>\n",
       "      <td>-1.000000</td>\n",
       "      <td>0.000000</td>\n",
       "      <td>0.000000</td>\n",
       "      <td>0.000000</td>\n",
       "      <td>0.000000</td>\n",
       "      <td>0.000000</td>\n",
       "    </tr>\n",
       "    <tr>\n",
       "      <th>25%</th>\n",
       "      <td>0.000000</td>\n",
       "      <td>12.900000</td>\n",
       "      <td>0.000000</td>\n",
       "      <td>45.600000</td>\n",
       "      <td>33.000000</td>\n",
       "      <td>0.000000</td>\n",
       "      <td>0.000000</td>\n",
       "    </tr>\n",
       "    <tr>\n",
       "      <th>50%</th>\n",
       "      <td>0.000000</td>\n",
       "      <td>17.400000</td>\n",
       "      <td>1.000000</td>\n",
       "      <td>84.200000</td>\n",
       "      <td>56.000000</td>\n",
       "      <td>0.000000</td>\n",
       "      <td>0.000000</td>\n",
       "    </tr>\n",
       "    <tr>\n",
       "      <th>75%</th>\n",
       "      <td>0.000000</td>\n",
       "      <td>22.800000</td>\n",
       "      <td>5.600000</td>\n",
       "      <td>235.500000</td>\n",
       "      <td>77.000000</td>\n",
       "      <td>459.325000</td>\n",
       "      <td>0.000000</td>\n",
       "    </tr>\n",
       "    <tr>\n",
       "      <th>max</th>\n",
       "      <td>25.200000</td>\n",
       "      <td>36.400000</td>\n",
       "      <td>37.000000</td>\n",
       "      <td>360.000000</td>\n",
       "      <td>100.000000</td>\n",
       "      <td>1343.600000</td>\n",
       "      <td>1.000000</td>\n",
       "    </tr>\n",
       "  </tbody>\n",
       "</table>\n",
       "</div>"
      ],
      "text/plain": [
       "                Prec           Temt          Vel.V          Dir.V  \\\n",
       "count  192652.000000  192652.000000  192652.000000  192652.000000   \n",
       "mean        0.013669      17.149964       3.483889     128.957871   \n",
       "std         0.202328       7.538828       4.855469     107.301537   \n",
       "min         0.000000      -1.000000       0.000000       0.000000   \n",
       "25%         0.000000      12.900000       0.000000      45.600000   \n",
       "50%         0.000000      17.400000       1.000000      84.200000   \n",
       "75%         0.000000      22.800000       5.600000     235.500000   \n",
       "max        25.200000      36.400000      37.000000     360.000000   \n",
       "\n",
       "               Hum.R          Rad.G             Et  \n",
       "count  192652.000000  192652.000000  192652.000000  \n",
       "mean       54.095208     234.243626       0.043751  \n",
       "std        27.326581     334.088118       0.144126  \n",
       "min         0.000000       0.000000       0.000000  \n",
       "25%        33.000000       0.000000       0.000000  \n",
       "50%        56.000000       0.000000       0.000000  \n",
       "75%        77.000000     459.325000       0.000000  \n",
       "max       100.000000    1343.600000       1.000000  "
      ]
     },
     "execution_count": 52,
     "metadata": {},
     "output_type": "execute_result"
    }
   ],
   "source": [
    "nwdata.describe()"
   ]
  },
  {
   "cell_type": "code",
   "execution_count": 51,
   "metadata": {},
   "outputs": [],
   "source": [
    "nwdata = nwdata.fillna(0)"
   ]
  },
  {
   "cell_type": "code",
   "execution_count": 53,
   "metadata": {},
   "outputs": [
    {
     "data": {
      "text/plain": [
       "Fecha    datetime64[ns]\n",
       "Prec            float64\n",
       "Temt            float64\n",
       "Vel.V           float64\n",
       "Dir.V           float64\n",
       "Hum.R           float64\n",
       "Rad.G           float64\n",
       "Et              float64\n",
       "dtype: object"
      ]
     },
     "execution_count": 53,
     "metadata": {},
     "output_type": "execute_result"
    }
   ],
   "source": [
    "nwdata.dtypes"
   ]
  },
  {
   "cell_type": "code",
   "execution_count": 55,
   "metadata": {},
   "outputs": [
    {
     "data": {
      "text/html": [
       "<div>\n",
       "<style scoped>\n",
       "    .dataframe tbody tr th:only-of-type {\n",
       "        vertical-align: middle;\n",
       "    }\n",
       "\n",
       "    .dataframe tbody tr th {\n",
       "        vertical-align: top;\n",
       "    }\n",
       "\n",
       "    .dataframe thead th {\n",
       "        text-align: right;\n",
       "    }\n",
       "</style>\n",
       "<table border=\"1\" class=\"dataframe\">\n",
       "  <thead>\n",
       "    <tr style=\"text-align: right;\">\n",
       "      <th></th>\n",
       "      <th>Prec</th>\n",
       "      <th>Temt</th>\n",
       "      <th>Vel.V</th>\n",
       "      <th>Dir.V</th>\n",
       "      <th>Hum.R</th>\n",
       "      <th>Rad.G</th>\n",
       "      <th>Et</th>\n",
       "    </tr>\n",
       "  </thead>\n",
       "  <tbody>\n",
       "    <tr>\n",
       "      <th>Prec</th>\n",
       "      <td>1.000000</td>\n",
       "      <td>-0.007469</td>\n",
       "      <td>0.026314</td>\n",
       "      <td>0.005695</td>\n",
       "      <td>0.092521</td>\n",
       "      <td>-0.040795</td>\n",
       "      <td>-0.013951</td>\n",
       "    </tr>\n",
       "    <tr>\n",
       "      <th>Temt</th>\n",
       "      <td>-0.007469</td>\n",
       "      <td>1.000000</td>\n",
       "      <td>0.432780</td>\n",
       "      <td>0.366453</td>\n",
       "      <td>-0.186027</td>\n",
       "      <td>0.615790</td>\n",
       "      <td>0.292979</td>\n",
       "    </tr>\n",
       "    <tr>\n",
       "      <th>Vel.V</th>\n",
       "      <td>0.026314</td>\n",
       "      <td>0.432780</td>\n",
       "      <td>1.000000</td>\n",
       "      <td>0.034391</td>\n",
       "      <td>-0.254797</td>\n",
       "      <td>0.368494</td>\n",
       "      <td>0.198421</td>\n",
       "    </tr>\n",
       "    <tr>\n",
       "      <th>Dir.V</th>\n",
       "      <td>0.005695</td>\n",
       "      <td>0.366453</td>\n",
       "      <td>0.034391</td>\n",
       "      <td>1.000000</td>\n",
       "      <td>-0.083176</td>\n",
       "      <td>0.224993</td>\n",
       "      <td>0.109782</td>\n",
       "    </tr>\n",
       "    <tr>\n",
       "      <th>Hum.R</th>\n",
       "      <td>0.092521</td>\n",
       "      <td>-0.186027</td>\n",
       "      <td>-0.254797</td>\n",
       "      <td>-0.083176</td>\n",
       "      <td>1.000000</td>\n",
       "      <td>-0.357917</td>\n",
       "      <td>-0.188470</td>\n",
       "    </tr>\n",
       "    <tr>\n",
       "      <th>Rad.G</th>\n",
       "      <td>-0.040795</td>\n",
       "      <td>0.615790</td>\n",
       "      <td>0.368494</td>\n",
       "      <td>0.224993</td>\n",
       "      <td>-0.357917</td>\n",
       "      <td>1.000000</td>\n",
       "      <td>0.403722</td>\n",
       "    </tr>\n",
       "    <tr>\n",
       "      <th>Et</th>\n",
       "      <td>-0.013951</td>\n",
       "      <td>0.292979</td>\n",
       "      <td>0.198421</td>\n",
       "      <td>0.109782</td>\n",
       "      <td>-0.188470</td>\n",
       "      <td>0.403722</td>\n",
       "      <td>1.000000</td>\n",
       "    </tr>\n",
       "  </tbody>\n",
       "</table>\n",
       "</div>"
      ],
      "text/plain": [
       "           Prec      Temt     Vel.V     Dir.V     Hum.R     Rad.G        Et\n",
       "Prec   1.000000 -0.007469  0.026314  0.005695  0.092521 -0.040795 -0.013951\n",
       "Temt  -0.007469  1.000000  0.432780  0.366453 -0.186027  0.615790  0.292979\n",
       "Vel.V  0.026314  0.432780  1.000000  0.034391 -0.254797  0.368494  0.198421\n",
       "Dir.V  0.005695  0.366453  0.034391  1.000000 -0.083176  0.224993  0.109782\n",
       "Hum.R  0.092521 -0.186027 -0.254797 -0.083176  1.000000 -0.357917 -0.188470\n",
       "Rad.G -0.040795  0.615790  0.368494  0.224993 -0.357917  1.000000  0.403722\n",
       "Et    -0.013951  0.292979  0.198421  0.109782 -0.188470  0.403722  1.000000"
      ]
     },
     "execution_count": 55,
     "metadata": {},
     "output_type": "execute_result"
    }
   ],
   "source": [
    "nwdata.corr()"
   ]
  },
  {
   "cell_type": "code",
   "execution_count": null,
   "metadata": {},
   "outputs": [],
   "source": []
  }
 ],
 "metadata": {
  "kernelspec": {
   "display_name": "Python 3",
   "language": "python",
   "name": "python3"
  },
  "language_info": {
   "codemirror_mode": {
    "name": "ipython",
    "version": 3
   },
   "file_extension": ".py",
   "mimetype": "text/x-python",
   "name": "python",
   "nbconvert_exporter": "python",
   "pygments_lexer": "ipython3",
   "version": "3.7.1"
  }
 },
 "nbformat": 4,
 "nbformat_minor": 2
}
